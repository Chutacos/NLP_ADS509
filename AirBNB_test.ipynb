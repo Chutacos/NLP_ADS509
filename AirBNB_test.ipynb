{
 "cells": [
  {
   "cell_type": "code",
   "execution_count": 32,
   "id": "4e3f2c92",
   "metadata": {},
   "outputs": [],
   "source": [
    "# import list from assignment 1 plus some extra\n",
    "import os\n",
    "import datetime\n",
    "import re\n",
    "import pandas as pd\n",
    "\n",
    "import requests\n",
    "import time\n",
    "from bs4 import BeautifulSoup\n",
    "from collections import defaultdict, Counter\n",
    "import random\n",
    "import string\n",
    "\n",
    "import shutil\n",
    "import re\n",
    "\n",
    "punctuation = string.punctuation"
   ]
  },
  {
   "cell_type": "markdown",
   "id": "8d78eb80",
   "metadata": {},
   "source": [
    "# Option 1: Pull by Category of Listing"
   ]
  },
  {
   "cell_type": "code",
   "execution_count": 2,
   "id": "3f7f0203",
   "metadata": {},
   "outputs": [],
   "source": [
    "url = \"https://airbnb19.p.rapidapi.com/api/v1/getCategory\"\n",
    "\n",
    "headers = {\n",
    "\t\"x-rapidapi-key\": \"ebcc8ac877msh5ba0e8f05396c83p12430djsnc2c536d2b5ba\",\n",
    "\t\"x-rapidapi-host\": \"airbnb19.p.rapidapi.com\"\n",
    "}\n",
    "\n",
    "response = requests.get(url, headers=headers)"
   ]
  },
  {
   "cell_type": "code",
   "execution_count": null,
   "id": "169eb358",
   "metadata": {},
   "outputs": [],
   "source": [
    "soup = BeautifulSoup(response.text, 'html.parser')\n",
    "\n",
    "soup = str(soup).split(\"},{\")\n",
    "\n",
    "group = []\n",
    "\n",
    "for item in soup:\n",
    "    title = re.findall('\"title\":\".+\"', item)\n",
    "    group.append(title)\n"
   ]
  },
  {
   "cell_type": "code",
   "execution_count": 30,
   "id": "0da145a5",
   "metadata": {},
   "outputs": [],
   "source": [
    "split = []\n",
    "for item in group:\n",
    "    cat = re.sub('\"title\":\"','', str(item))\n",
    "    cat2 = re.sub('\",\"image\":.+', '',cat)\n",
    "    split.append(cat2)\n",
    "\n",
    "categories = []\n",
    "for item in split:\n",
    "    c = re.sub(re.escape(punctuation), '', item)\n",
    "    c = re.sub('\\\\[\\'', '', c)\n",
    "    categories.append(c)"
   ]
  },
  {
   "cell_type": "code",
   "execution_count": 33,
   "id": "3cca8473",
   "metadata": {},
   "outputs": [
    {
     "data": {
      "application/vnd.microsoft.datawrangler.viewer.v0+json": {
       "columns": [
        {
         "name": "index",
         "rawType": "int64",
         "type": "integer"
        },
        {
         "name": "0",
         "rawType": "object",
         "type": "string"
        }
       ],
       "ref": "e851d824-786d-40d0-9079-fdd6758e88b5",
       "rows": [
        [
         "0",
         "Cabins"
        ],
        [
         "1",
         "Amazing views"
        ],
        [
         "2",
         "Tiny homes"
        ],
        [
         "3",
         "Beachfront"
        ],
        [
         "4",
         "Tropical"
        ],
        [
         "5",
         "Mansions"
        ],
        [
         "6",
         "Lakefront"
        ],
        [
         "7",
         "A-frames"
        ],
        [
         "8",
         "OMG!"
        ],
        [
         "9",
         "Treehouses"
        ],
        [
         "10",
         "Castles"
        ],
        [
         "11",
         "Amazing pools"
        ],
        [
         "12",
         "Play"
        ],
        [
         "13",
         "Countryside"
        ],
        [
         "14",
         "Off-the-grid"
        ],
        [
         "15",
         "Farms"
        ],
        [
         "16",
         "Design"
        ],
        [
         "17",
         "Camping"
        ],
        [
         "18",
         "Trending"
        ],
        [
         "19",
         "Skiing"
        ],
        [
         "20",
         "Luxe"
        ],
        [
         "21",
         "Rooms"
        ],
        [
         "22",
         "Containers"
        ],
        [
         "23",
         "Earth homes"
        ],
        [
         "24",
         "Ski-in/out"
        ],
        [
         "25",
         "Domes"
        ],
        [
         "26",
         "Islands"
        ],
        [
         "27",
         "Top cities"
        ],
        [
         "28",
         "Chef\\'s kitchens"
        ],
        [
         "29",
         "Boats"
        ],
        [
         "30",
         "National parks"
        ],
        [
         "31",
         "Creative spaces"
        ],
        [
         "32",
         "Vineyards"
        ],
        [
         "33",
         "Houseboats"
        ],
        [
         "34",
         "Bed &amp; breakfasts"
        ],
        [
         "35",
         "Caves"
        ],
        [
         "36",
         "Barns"
        ],
        [
         "37",
         "Top of the world"
        ],
        [
         "38",
         "New"
        ],
        [
         "39",
         "Historical homes"
        ],
        [
         "40",
         "Arctic"
        ],
        [
         "41",
         "Yurts"
        ],
        [
         "42",
         "Surfing"
        ],
        [
         "43",
         "Towers"
        ],
        [
         "44",
         "Adapted"
        ],
        [
         "45",
         "Cycladic homes"
        ],
        [
         "46",
         "Grand pianos"
        ],
        [
         "47",
         "Desert"
        ],
        [
         "48",
         "Dammusi"
        ],
        [
         "49",
         "Golfing"
        ]
       ],
       "shape": {
        "columns": 1,
        "rows": 61
       }
      },
      "text/html": [
       "<div>\n",
       "<style scoped>\n",
       "    .dataframe tbody tr th:only-of-type {\n",
       "        vertical-align: middle;\n",
       "    }\n",
       "\n",
       "    .dataframe tbody tr th {\n",
       "        vertical-align: top;\n",
       "    }\n",
       "\n",
       "    .dataframe thead th {\n",
       "        text-align: right;\n",
       "    }\n",
       "</style>\n",
       "<table border=\"1\" class=\"dataframe\">\n",
       "  <thead>\n",
       "    <tr style=\"text-align: right;\">\n",
       "      <th></th>\n",
       "      <th>0</th>\n",
       "    </tr>\n",
       "  </thead>\n",
       "  <tbody>\n",
       "    <tr>\n",
       "      <th>0</th>\n",
       "      <td>Cabins</td>\n",
       "    </tr>\n",
       "    <tr>\n",
       "      <th>1</th>\n",
       "      <td>Amazing views</td>\n",
       "    </tr>\n",
       "    <tr>\n",
       "      <th>2</th>\n",
       "      <td>Tiny homes</td>\n",
       "    </tr>\n",
       "    <tr>\n",
       "      <th>3</th>\n",
       "      <td>Beachfront</td>\n",
       "    </tr>\n",
       "    <tr>\n",
       "      <th>4</th>\n",
       "      <td>Tropical</td>\n",
       "    </tr>\n",
       "    <tr>\n",
       "      <th>...</th>\n",
       "      <td>...</td>\n",
       "    </tr>\n",
       "    <tr>\n",
       "      <th>56</th>\n",
       "      <td>Casas particulares</td>\n",
       "    </tr>\n",
       "    <tr>\n",
       "      <th>57</th>\n",
       "      <td>Minsus</td>\n",
       "    </tr>\n",
       "    <tr>\n",
       "      <th>58</th>\n",
       "      <td>Campers</td>\n",
       "    </tr>\n",
       "    <tr>\n",
       "      <th>59</th>\n",
       "      <td>Lake</td>\n",
       "    </tr>\n",
       "    <tr>\n",
       "      <th>60</th>\n",
       "      <td>Beach</td>\n",
       "    </tr>\n",
       "  </tbody>\n",
       "</table>\n",
       "<p>61 rows × 1 columns</p>\n",
       "</div>"
      ],
      "text/plain": [
       "                     0\n",
       "0               Cabins\n",
       "1        Amazing views\n",
       "2           Tiny homes\n",
       "3           Beachfront\n",
       "4             Tropical\n",
       "..                 ...\n",
       "56  Casas particulares\n",
       "57              Minsus\n",
       "58             Campers\n",
       "59                Lake\n",
       "60               Beach\n",
       "\n",
       "[61 rows x 1 columns]"
      ]
     },
     "execution_count": 33,
     "metadata": {},
     "output_type": "execute_result"
    }
   ],
   "source": [
    "cat = pd.DataFrame(categories)\n",
    "cat"
   ]
  },
  {
   "cell_type": "markdown",
   "id": "3028a393",
   "metadata": {},
   "source": [
    "# Option 2: Pull by Location (can add property type here if wanted)"
   ]
  },
  {
   "cell_type": "code",
   "execution_count": null,
   "id": "715fe44c",
   "metadata": {},
   "outputs": [],
   "source": [
    "import requests\n",
    "\n",
    "url = \"https://airbnb19.p.rapidapi.com/api/v1/searchPropertyByLocationV2\"\n",
    "\n",
    "querystring = {\"location\":\"chicago\",\"totalRecords\":\"-96\",\"currency\":\"USD\",\"adults\":\"1\"}\n",
    "\n",
    "headers = {\n",
    "\t\"x-rapidapi-key\": \"ebcc8ac877msh5ba0e8f05396c83p12430djsnc2c536d2b5ba\",\n",
    "\t\"x-rapidapi-host\": \"airbnb19.p.rapidapi.com\"\n",
    "}\n",
    "\n",
    "response = requests.get(url, headers=headers, params=querystring)\n",
    "\n",
    "print(response.json())"
   ]
  }
 ],
 "metadata": {
  "kernelspec": {
   "display_name": "Python 3",
   "language": "python",
   "name": "python3"
  },
  "language_info": {
   "codemirror_mode": {
    "name": "ipython",
    "version": 3
   },
   "file_extension": ".py",
   "mimetype": "text/x-python",
   "name": "python",
   "nbconvert_exporter": "python",
   "pygments_lexer": "ipython3",
   "version": "3.12.8"
  }
 },
 "nbformat": 4,
 "nbformat_minor": 5
}
